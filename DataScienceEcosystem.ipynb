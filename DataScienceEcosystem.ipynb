{
 "cells": [
  {
   "cell_type": "markdown",
   "id": "c83751ed-c8f2-45b4-8cf8-b7d435be3434",
   "metadata": {},
   "source": [
    "# Data Science Tools and Ecosystem"
   ]
  },
  {
   "cell_type": "markdown",
   "id": "d5f9792f-a471-4833-807d-404d57f945a0",
   "metadata": {},
   "source": [
    "**Objectives:**\n",
    "*  List popular languages for Data Science\n",
    "*  Using RStudio to explore datasets\n",
    "*  Using Anaconda for data science"
   ]
  },
  {
   "cell_type": "code",
   "execution_count": 2,
   "id": "58657c78-c047-4422-bf39-0b8951668d23",
   "metadata": {},
   "outputs": [],
   "source": [
    "# In this notebook, Data Science Tools and Ecosystem are summarized."
   ]
  },
  {
   "cell_type": "markdown",
   "id": "0faba818-10ae-40fd-b153-f9f4726c2cc8",
   "metadata": {},
   "source": [
    "Some of the popular languages that Data Scientists use are:\n",
    "1. Python\n",
    "2. R\n",
    "3. SQL"
   ]
  },
  {
   "cell_type": "markdown",
   "id": "35206ab3-9a0a-4b0a-b10f-7cd17aaed3d1",
   "metadata": {},
   "source": [
    "Some of the commonly used libraries used by Data Scientists include:\n",
    "1. ggplot\n",
    "2. caret\n",
    "3. dplyr"
   ]
  },
  {
   "cell_type": "markdown",
   "id": "0919a2ac-f19f-4d74-9eda-13bb4598c946",
   "metadata": {},
   "source": [
    "| Data Science Tools |\n",
    "|--------------------|\n",
    "| RStudio            |\n",
    "| Visual Studio Code |\n",
    "| Anaconda           |"
   ]
  },
  {
   "cell_type": "markdown",
   "id": "102ee60e-4832-4f42-9791-e4c08ce02ef6",
   "metadata": {},
   "source": [
    "### Below are a few examples of evaluating arithmetic expressions in Python"
   ]
  },
  {
   "cell_type": "code",
   "execution_count": 3,
   "id": "38e561ce-dde7-48ca-9806-ed002a035a41",
   "metadata": {},
   "outputs": [
    {
     "data": {
      "text/plain": [
       "17"
      ]
     },
     "execution_count": 3,
     "metadata": {},
     "output_type": "execute_result"
    }
   ],
   "source": [
    "# his a simple arithmetic expression to mutiply then add integers\n",
    "(3*4)+5"
   ]
  },
  {
   "cell_type": "code",
   "execution_count": 6,
   "id": "da2e7afd-e3b3-4b10-8761-4c3b8f8e370b",
   "metadata": {},
   "outputs": [
    {
     "data": {
      "text/plain": [
       "3.3333333333333335"
      ]
     },
     "execution_count": 6,
     "metadata": {},
     "output_type": "execute_result"
    }
   ],
   "source": [
    "# This will convert 200 minutes to hours by diving by 60\n",
    "200 / 60"
   ]
  },
  {
   "cell_type": "markdown",
   "id": "0c229eb7-d33e-4125-81d0-fbcbb90c88f2",
   "metadata": {},
   "source": [
    "## Author\n",
    "Turki Shahel"
   ]
  },
  {
   "cell_type": "code",
   "execution_count": null,
   "id": "07a97ff5-9afb-4b89-a66e-e995a0b0b024",
   "metadata": {},
   "outputs": [],
   "source": []
  }
 ],
 "metadata": {
  "kernelspec": {
   "display_name": "Python 3 (ipykernel)",
   "language": "python",
   "name": "python3"
  },
  "language_info": {
   "codemirror_mode": {
    "name": "ipython",
    "version": 3
   },
   "file_extension": ".py",
   "mimetype": "text/x-python",
   "name": "python",
   "nbconvert_exporter": "python",
   "pygments_lexer": "ipython3",
   "version": "3.13.3"
  }
 },
 "nbformat": 4,
 "nbformat_minor": 5
}
